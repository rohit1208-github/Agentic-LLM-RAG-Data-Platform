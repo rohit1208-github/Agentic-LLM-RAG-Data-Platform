{
 "cells": [
  {
   "cell_type": "code",
   "execution_count": 1,
   "metadata": {},
   "outputs": [],
   "source": [
    "import os\n",
    "from pandasai import SmartDataframe\n",
    "import pandas as pd\n",
    "from langchain_community.llms import Ollama"
   ]
  },
  {
   "cell_type": "code",
   "execution_count": 16,
   "metadata": {},
   "outputs": [],
   "source": [
    "df = pd.read_csv(r'C:\\Users\\prohi\\Desktop\\edplus\\tabdat\\Scholarship_Recipients_And_Dollars_By_College_Code__Beginning_2009.csv')"
   ]
  },
  {
   "cell_type": "code",
   "execution_count": 21,
   "metadata": {},
   "outputs": [],
   "source": [
    "os.environ['PANDASAI_API_KEY'] = \"$2a$10$sx3QedYWTK4e1gC2SQ0Bb.X5evWLjhdVDHrv8HTKMn9a/rRHSIxRu\""
   ]
  },
  {
   "cell_type": "code",
   "execution_count": 22,
   "metadata": {},
   "outputs": [],
   "source": [
    "pandasai = SmartDataframe(df)"
   ]
  },
  {
   "cell_type": "code",
   "execution_count": 23,
   "metadata": {},
   "outputs": [],
   "source": [
    "query = \"What is the average of Scholarship Dollars?\""
   ]
  },
  {
   "cell_type": "code",
   "execution_count": 24,
   "metadata": {},
   "outputs": [
    {
     "name": "stderr",
     "output_type": "stream",
     "text": [
      "Traceback (most recent call last):\n",
      "  File \"c:\\Users\\prohi\\Desktop\\edplus\\.conda\\Lib\\site-packages\\pandasai\\pipelines\\chat\\generate_chat_pipeline.py\", line 307, in run\n",
      "    output = (self.code_generation_pipeline | self.code_execution_pipeline).run(\n",
      "             ^^^^^^^^^^^^^^^^^^^^^^^^^^^^^^^^^^^^^^^^^^^^^^^^^^^^^^^^^^^^^^^^^^^\n",
      "  File \"c:\\Users\\prohi\\Desktop\\edplus\\.conda\\Lib\\site-packages\\pandasai\\pipelines\\pipeline.py\", line 137, in run\n",
      "    raise e\n",
      "  File \"c:\\Users\\prohi\\Desktop\\edplus\\.conda\\Lib\\site-packages\\pandasai\\pipelines\\pipeline.py\", line 101, in run\n",
      "    step_output = logic.execute(\n",
      "                  ^^^^^^^^^^^^^^\n",
      "  File \"c:\\Users\\prohi\\Desktop\\edplus\\.conda\\Lib\\site-packages\\pandasai\\pipelines\\chat\\code_generator.py\", line 33, in execute\n",
      "    code = pipeline_context.config.llm.generate_code(input, pipeline_context)\n",
      "           ^^^^^^^^^^^^^^^^^^^^^^^^^^^^^^^^^^^^^^^^^^^^^^^^^^^^^^^^^^^^^^^^^^\n",
      "  File \"c:\\Users\\prohi\\Desktop\\edplus\\.conda\\Lib\\site-packages\\pandasai\\llm\\base.py\", line 200, in generate_code\n",
      "    response = self.call(instruction, context)\n",
      "               ^^^^^^^^^^^^^^^^^^^^^^^^^^^^^^^\n",
      "  File \"c:\\Users\\prohi\\Desktop\\edplus\\.conda\\Lib\\site-packages\\pandasai\\llm\\bamboo_llm.py\", line 18, in call\n",
      "    response = self._session.post(\"/llm/chat\", json=data)\n",
      "               ^^^^^^^^^^^^^^^^^^^^^^^^^^^^^^^^^^^^^^^^^^\n",
      "  File \"c:\\Users\\prohi\\Desktop\\edplus\\.conda\\Lib\\site-packages\\pandasai\\helpers\\request.py\", line 37, in post\n",
      "    return self.make_request(\"POST\", path, **kwargs)\n",
      "           ^^^^^^^^^^^^^^^^^^^^^^^^^^^^^^^^^^^^^^^^^\n",
      "  File \"c:\\Users\\prohi\\Desktop\\edplus\\.conda\\Lib\\site-packages\\pandasai\\helpers\\request.py\", line 71, in make_request\n",
      "    raise PandasAIApiCallError(data[\"message\"])\n",
      "pandasai.exceptions.PandasAIApiCallError: Unable to generate LLM response.\n"
     ]
    }
   ],
   "source": [
    "result = pandasai.chat(query)"
   ]
  },
  {
   "cell_type": "code",
   "execution_count": 9,
   "metadata": {},
   "outputs": [
    {
     "name": "stdout",
     "output_type": "stream",
     "text": [
      "Not found\n"
     ]
    }
   ],
   "source": [
    "print(result)"
   ]
  }
 ],
 "metadata": {
  "kernelspec": {
   "display_name": "Python 3",
   "language": "python",
   "name": "python3"
  },
  "language_info": {
   "codemirror_mode": {
    "name": "ipython",
    "version": 3
   },
   "file_extension": ".py",
   "mimetype": "text/x-python",
   "name": "python",
   "nbconvert_exporter": "python",
   "pygments_lexer": "ipython3",
   "version": "3.11.9"
  }
 },
 "nbformat": 4,
 "nbformat_minor": 2
}
